{
 "cells": [
  {
   "cell_type": "markdown",
   "id": "8d3a3d44",
   "metadata": {},
   "source": [
    "## GNFR A - Temporal profiles\n",
    "Based on power statistics from relevant powerplants."
   ]
  },
  {
   "cell_type": "code",
   "execution_count": null,
   "id": "e04e5a73",
   "metadata": {},
   "outputs": [],
   "source": [
    "#!/usr/bin/env python3\n",
    "# -*- coding: utf-8 -*-\n",
    "import os \n",
    "import pandas as pd"
   ]
  },
  {
   "cell_type": "code",
   "execution_count": null,
   "id": "10469937",
   "metadata": {},
   "outputs": [],
   "source": [
    "# import files\n",
    "folder = '../data/GNFR A/power statistics/'\n",
    "\n",
    "file_dict = {'HKW_Nord': 'Heizkraftwerk_M_nchen_Nord_2_201901010000_202412312359_Stunde.csv', \n",
    "             'HKW_Süd1': 'GuD_M_nchen_S_d_1_201901010000_202412312359_Stunde.csv',\n",
    "             'HKW_Süd2': 'GuD_M_nchen_S_d_2_201901010000_202412312359_Stunde.csv',\n",
    "}"
   ]
  },
  {
   "cell_type": "code",
   "execution_count": 20,
   "id": "013beeda",
   "metadata": {},
   "outputs": [],
   "source": [
    "def load_file(file_name, folder=folder):\n",
    "    \"\"\"Load a CSV file and return a DataFrame.\"\"\"\n",
    "    df = pd\n",
    "\n",
    "    df = pd.read_csv(folder + file_name, sep=';', decimal=',')\n",
    "    df.index = pd.to_datetime(df['Datum von'], format=\"%d.%m.%Y %H:%M\")\n",
    "    df.drop(columns=['Datum von', 'Datum bis'], inplace=True)\n",
    "\n",
    "    # convert to numeric columns\n",
    "    for c in df.columns:\n",
    "        if df[c].dtype == 'object':\n",
    "            df[c] = df[c].str.replace(',', '.')\n",
    "        else:\n",
    "            df[c] = df[c].astype(float)\n",
    "            \n",
    "    df = df.apply(pd.to_numeric, errors='coerce')\n",
    "    df.fillna(0, inplace=True)\n",
    "    return df"
   ]
  },
  {
   "cell_type": "code",
   "execution_count": 23,
   "id": "c49fe19d",
   "metadata": {},
   "outputs": [],
   "source": [
    "hkw_nord = load_file(file_dict['HKW_Nord'])\n",
    "hkw_süd = load_file(file_dict['HKW_Süd1'])\n",
    "hkw_süd = pd.concat([hkw_süd, load_file(file_dict['HKW_Süd2'])], axis=1)"
   ]
  },
  {
   "cell_type": "markdown",
   "id": "e615b272",
   "metadata": {},
   "source": [
    "# Prepare timeprofiles\n",
    "\n",
    "**Format:**<br>\n",
    "year, component, timestamp, scaling_factor"
   ]
  },
  {
   "cell_type": "code",
   "execution_count": null,
   "id": "f9258738",
   "metadata": {},
   "outputs": [],
   "source": [
    "# time profiles for HKW Nord\n",
    "for y in hkw_nord.index.year.unique():\n",
    "    df = hkw_nord[hkw_nord.index.year == y].copy()\n",
    "    df = pd.DataFrame(data = {'scaling factor': df.sum(axis=1) / df.sum(axis=1).mean()})\n",
    "    df['year'] = y\n",
    "    df['component'] = 'all'\n",
    "    df['timestamp'] = df.index\n",
    "    df[['year', 'component', 'timestamp', 'scaling factor']]\\\n",
    "        .to_csv(f'../data/GNFR A/timeprofiles/GNFR_A_HKW_Nord_{y}.csv', index=False)"
   ]
  },
  {
   "cell_type": "code",
   "execution_count": null,
   "id": "112043b2",
   "metadata": {},
   "outputs": [],
   "source": [
    "# time profiles for HKW Süd\n",
    "for y in hkw_süd.index.year.unique():\n",
    "    df = hkw_süd[hkw_süd.index.year == y].copy()\n",
    "    df = pd.DataFrame(data = {'scaling factor': df.sum(axis=1) / df.sum(axis=1).mean()})\n",
    "    df['year'] = y\n",
    "    df['component'] = 'all'\n",
    "    df['timestamp'] = df.index\n",
    "    df[['year', 'component', 'timestamp', 'scaling factor']]\\\n",
    "        .to_csv(f'../data/GNFR A/timeprofiles/GNFR_A_HKW_Süd_{y}.csv', index=False)"
   ]
  }
 ],
 "metadata": {
  "kernelspec": {
   "display_name": "tum-mci",
   "language": "python",
   "name": "python3"
  },
  "language_info": {
   "codemirror_mode": {
    "name": "ipython",
    "version": 3
   },
   "file_extension": ".py",
   "mimetype": "text/x-python",
   "name": "python",
   "nbconvert_exporter": "python",
   "pygments_lexer": "ipython3",
   "version": "3.13.2"
  }
 },
 "nbformat": 4,
 "nbformat_minor": 5
}
